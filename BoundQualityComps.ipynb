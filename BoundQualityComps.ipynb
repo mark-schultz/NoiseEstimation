{
 "cells": [
  {
   "cell_type": "code",
   "execution_count": 37,
   "id": "c69fcbd8",
   "metadata": {},
   "outputs": [],
   "source": [
    "n = 2**10\n",
    "\n",
    "NCPUS=8\n",
    "\n",
    "KK = CyclotomicField(2*n)\n",
    "zeta = KK.gen()\n",
    "Cn = VectorSpace(CC, KK.degree())"
   ]
  },
  {
   "cell_type": "code",
   "execution_count": 36,
   "id": "1c46d758",
   "metadata": {},
   "outputs": [],
   "source": [
    "sigma = 3\n",
    "data_sigma = 10\n",
    "data_mu = 4\n",
    "k = 2**5"
   ]
  },
  {
   "cell_type": "code",
   "execution_count": 32,
   "id": "ab761bc6",
   "metadata": {},
   "outputs": [],
   "source": [
    "def sample_es():\n",
    "    assert n * k % NCPUS == 0\n",
    "    jobs_per_cpu = n * k // NCPUS\n",
    "    @parallel(ncpus=NCPUS)\n",
    "    def sample_batch(sigma):\n",
    "        set_random_seed()\n",
    "        return [normalvariate(0, sigma) for _ in range(jobs_per_cpu)]\n",
    "    vals = sample_batch([sigma for _ in range(NCPUS)])\n",
    "    samples = sum((val[-1] for val in vals),[])\n",
    "    return [KK(samples[i*n:(i+1)*n]) for i in range(k)]\n",
    "\n",
    "def sample_complex_es():\n",
    "    # First n/2 are Re(output), second n/2 are Im(output)\n",
    "    # Extend to n-dim C vector by setting output[0] = conj(output[-1])\n",
    "    assert n * k % NCPUS == 0\n",
    "    jobs_per_cpu = n * k // NCPUS\n",
    "    @parallel(ncpus=NCPUS)\n",
    "    def sample_batch(sigma):\n",
    "        set_random_seed()\n",
    "        return [normalvariate(0, sigma) for _ in range(jobs_per_cpu)]\n",
    "    vals = sample_batch([sigma * sqrt(n) for _ in range(NCPUS)])\n",
    "    samples = sum((val[-1] for val in vals),[])\n",
    "    # convert n Normals to conj C^n vecs\n",
    "    def convert(sample_batch):\n",
    "        output = [_ for _ in range(n)]\n",
    "        for i in range(n//2):\n",
    "            output[i] = CC(sample_batch[i], sample_batch[i+n//2])\n",
    "            output[-i+1] = output[i].conjugate()\n",
    "        return Cn(output)        \n",
    "    return [convert(samples[i*n:(i+1)*n]) for i in range(k)]\n",
    "\n",
    "\n",
    "def sample_xs():\n",
    "    samples = [normalvariate(data_mu, data_sigma) for _ in range(k)]\n",
    "    return [KK(samples[i]) for i in range(k)]"
   ]
  },
  {
   "cell_type": "code",
   "execution_count": 6,
   "id": "96c636ee",
   "metadata": {},
   "outputs": [],
   "source": [
    "def l2_norm(x):\n",
    "    return x.polynomial().norm(2)\n",
    "\n",
    "def canl2_norm(x):\n",
    "    return Cn(x.complex_embeddings()).norm(2)\n",
    "\n",
    "def inf_norm(x):\n",
    "    return x.polynomial().norm(infinity)\n",
    "\n",
    "def caninf_norm(x):\n",
    "    return Cn(x.complex_embeddings()).norm(infinity)"
   ]
  },
  {
   "cell_type": "code",
   "execution_count": 19,
   "id": "728e977b",
   "metadata": {},
   "outputs": [],
   "source": [
    "def normalize_elem(elem):\n",
    "    return KK(elem.polynomial().map_coefficients(numerical_approx))\n",
    "\n",
    "def compute_avg_e(es):\n",
    "    k = len(es)\n",
    "    avg_e = sum(es[i] for i in range(k))\n",
    "    return normalize_elem(avg_e * (1/k))\n",
    "\n",
    "def compute_complex_avg_e(complex_es):\n",
    "    return (1/len(complex_es)) * sum(complex_e for complex_e in complex_es)\n",
    "\n",
    "def embed_es(es):\n",
    "    assert k % NCPUS == 0\n",
    "    jobs_per_cpu = k // NCPUS\n",
    "    @parallel(ncpus=NCPUS)\n",
    "    def embed_batch(batch_es):\n",
    "        return [batch_es[i].complex_embeddings() for i in range(jobs_per_cpu)]\n",
    "    embedded_es = embed_batch([es[i*jobs_per_cpu:(i+1)*jobs_per_cpu] for i in range(NCPUS)])\n",
    "    embedded_es = sum((batch[-1] for batch in embedded_es), [])\n",
    "    return [Cn(embedded_e) for embedded_e in embedded_es]\n",
    "\n",
    "def embed_avg_e(avg_e):\n",
    "    return Cn(normalize_elem(avg_e).complex_embeddings())\n",
    "\n",
    "def inf_bound(es, avg_e, xs):\n",
    "    k = len(xs)\n",
    "    assert k == len(es)\n",
    "    return 4*k*sum(inf_norm(es[i] - avg_e) * (xs[i] + k*n*inf_norm(es[i])) for i in range(k))\n",
    "\n",
    "def caninf_bound(embedded_es, embedded_avg_e, xs):\n",
    "    # Embed polynomials, operate on embedded vectors\n",
    "    k = len(xs)\n",
    "    assert k == len(embedded_es)\n",
    "    n = embedded_es[0].parent().degree()\n",
    "    return 4*k*sum((embedded_es[i] - embedded_avg_e).norm(infinity) * (xs[i] + n * k * embedded_es[i].norm(infinity)) for i in range(k))\n",
    "\n",
    "def canl2_bound(embedded_es, embedded_avg_e, xs):\n",
    "    # Embed polynomials, operate on embedded vectors\n",
    "    k = len(xs)\n",
    "    assert k == len(embedded_es)\n",
    "    return 4*k*sum((embedded_es[i] - embedded_avg_e).norm(2) * (xs[i] + k * embedded_es[i].norm(infinity)) for i in range(k))\n",
    "\n",
    "def gauss_approx(es, xs):\n",
    "    k = len(xs)\n",
    "    assert k == len(es)\n",
    "    n = es[0].parent().degree()\n",
    "    xs_sqnorm = N(sum(xs[i]**2 for i in range(k)))\n",
    "    return sqrt(4*sigma**2 * (2*k+1)*(xs_sqnorm + 2*n*k*sigma**2))\n",
    "\n",
    "def actual_error(es, avg_e, xs):\n",
    "    k = len(es)\n",
    "    assert k == len(xs)\n",
    "    assert k % NCPUS == 0\n",
    "    num_jobs = k // NCPUS\n",
    "    @parallel(ncpus=NCPUS)\n",
    "    def summand_batch(batch_xs, batch_es):\n",
    "        return sum(normalize_elem(2*batch_xs[i]+k*batch_es[i]*avg_e) for i in range(num_jobs))\n",
    "    res = summand_batch([(xs[i], es[i]) for i in range(k)])\n",
    "    return normalize_elem(sum(val[-1] for val in res))\n",
    "\n",
    "def actual_complex_error(complex_es, avg_complex_e, xs):\n",
    "    k = len(complex_es)\n",
    "    assert k == len(xs)\n",
    "    return sum(2 * Cn(xs[i].complex_embeddings()) + k * complex_es[i].pairwise_product(avg_complex_e) for i in range(k))\n",
    "\n",
    "\n",
    "def data(es, avg_e, xs, embedded_es, embedded_avg_e):\n",
    "    excess = lambda a,b: log_b(a/b,2)\n",
    "    err = actual_error(es, avg_e, xs)\n",
    "    inf_excess = excess(inf_bound(es, avg_e, xs), inf_norm(err))\n",
    "    caninf_excess = excess(caninf_bound(embedded_es, embedded_avg_e, xs), caninf_norm(err))\n",
    "    canl2_excess = excess(canl2_bound(embedded_es, embedded_avg_e, xs), canl2_norm(err))\n",
    "    gauss_excess = excess(gauss_approx(es, xs), l2_norm(err))\n",
    "    return [inf_excess, caninf_excess, canl2_excess, gauss_excess]\n",
    "\n",
    "def trial():\n",
    "    es = sample_es()\n",
    "    avg_e = compute_avg_e(es)\n",
    "    xs = sample_xs()\n",
    "    embedded_es = embed_es(es)\n",
    "    embedded_avg_e = embed_avg_e(avg_e)\n",
    "    return data(es, avg_e, xs, embedded_es, embedded_avg_e)\n",
    "\n",
    "def real_trial():\n",
    "    es = sample_es()\n",
    "    avg_e = compute_avg_e(es)\n",
    "    xs = sample_xs()\n",
    "    excess = lambda a,b: log_b(a/b,2)\n",
    "    err = actual_error(es, avg_e, xs)\n",
    "    inf_excess = excess(inf_bound(es, avg_e, xs), inf_norm(err))\n",
    "    gauss_excess = excess(gauss_approx(es, xs), l2_norm(err))\n",
    "    return [inf_excess, gauss_excess]\n",
    "    \n",
    "\n",
    "def complex_trial():\n",
    "    embedded_es = sample_complex_es()\n",
    "    embedded_avg_e = compute_complex_avg_e(embedded_es)\n",
    "    xs = sample_xs()\n",
    "    embedded_err = actual_complex_error(embedded_es, embedded_avg_e, xs)\n",
    "    excess = lambda a,b: log_b(a/b,2)\n",
    "    caninf_excess = excess(caninf_bound(embedded_es, embedded_avg_e, xs), embedded_err.norm(infinity))\n",
    "    canl2_excess = excess(canl2_bound(embedded_es, embedded_avg_e, xs), embedded_err.norm(2))\n",
    "    return [caninf_excess, canl2_excess]\n",
    "\n",
    "def synthetic_trial():\n",
    "    real = real_trial()\n",
    "    cmplx = complex_trial()\n",
    "    return [real[0], cmplx[0], cmplx[1], real[1]]"
   ]
  },
  {
   "cell_type": "code",
   "execution_count": 38,
   "id": "f0047152",
   "metadata": {},
   "outputs": [
    {
     "name": "stdout",
     "output_type": "stream",
     "text": [
      " "
     ]
    }
   ],
   "source": [
    "%prun -s cumulative res = trial(), synthetic_trial()"
   ]
  },
  {
   "cell_type": "code",
   "execution_count": 29,
   "id": "f6a19a52",
   "metadata": {},
   "outputs": [
    {
     "data": {
      "text/plain": [
       "[21.6661330271510, 25.6198845593748, 16.8599471992810, 3.14928778414005]"
      ]
     },
     "execution_count": 29,
     "metadata": {},
     "output_type": "execute_result"
    }
   ],
   "source": [
    "trial()"
   ]
  },
  {
   "cell_type": "code",
   "execution_count": 35,
   "id": "d61bc57b",
   "metadata": {},
   "outputs": [
    {
     "data": {
      "text/plain": [
       "[21.3912660186269, 25.6773293604520, 16.7473228453930, 3.03796699790274]"
      ]
     },
     "execution_count": 35,
     "metadata": {},
     "output_type": "execute_result"
    }
   ],
   "source": [
    "res[0]"
   ]
  },
  {
   "cell_type": "code",
   "execution_count": null,
   "id": "7b2b815e",
   "metadata": {},
   "outputs": [],
   "source": [
    "es = sample_es()"
   ]
  },
  {
   "cell_type": "code",
   "execution_count": null,
   "id": "6cc23676",
   "metadata": {},
   "outputs": [],
   "source": [
    "e = es[0]"
   ]
  },
  {
   "cell_type": "code",
   "execution_count": null,
   "id": "c632ea68",
   "metadata": {},
   "outputs": [],
   "source": [
    "embs = e.complex_embeddings()"
   ]
  },
  {
   "cell_type": "code",
   "execution_count": null,
   "id": "63803772",
   "metadata": {},
   "outputs": [],
   "source": [
    "embs[-1]"
   ]
  },
  {
   "cell_type": "code",
   "execution_count": null,
   "id": "75e915af",
   "metadata": {},
   "outputs": [],
   "source": [
    "z = CC(0,1)"
   ]
  },
  {
   "cell_type": "code",
   "execution_count": null,
   "id": "8cc1605e",
   "metadata": {},
   "outputs": [],
   "source": [
    "x = sample_complex_es()[0]"
   ]
  },
  {
   "cell_type": "code",
   "execution_count": null,
   "id": "038aaa01",
   "metadata": {},
   "outputs": [],
   "source": [
    "x + x"
   ]
  },
  {
   "cell_type": "code",
   "execution_count": null,
   "id": "fadfcfd6",
   "metadata": {},
   "outputs": [],
   "source": [
    "x.pairwise_product?"
   ]
  },
  {
   "cell_type": "code",
   "execution_count": null,
   "id": "af3fd850",
   "metadata": {},
   "outputs": [],
   "source": []
  }
 ],
 "metadata": {
  "kernelspec": {
   "display_name": "SageMath 9.5",
   "language": "sage",
   "name": "sagemath"
  },
  "language_info": {
   "codemirror_mode": {
    "name": "ipython",
    "version": 3
   },
   "file_extension": ".py",
   "mimetype": "text/x-python",
   "name": "python",
   "nbconvert_exporter": "python",
   "pygments_lexer": "ipython3",
   "version": "3.10.12"
  }
 },
 "nbformat": 4,
 "nbformat_minor": 5
}
